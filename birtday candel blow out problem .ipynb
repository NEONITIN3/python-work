{
 "cells": [
  {
   "cell_type": "markdown",
   "metadata": {},
   "source": [
    "# i/p\n",
    "4 #number of candel\n",
    "1 2 3 3 #hight of candel hai\n",
    "\n",
    "o/p\n",
    "2 # matalab ek fuuk me 2 candel blowout hue\n",
    "\n",
    "explanation\n",
    "# jo bhi max height par hoge wohi band higi so;"
   ]
  },
  {
   "cell_type": "code",
   "execution_count": 3,
   "metadata": {},
   "outputs": [
    {
     "name": "stdout",
     "output_type": "stream",
     "text": [
      "4 \n",
      "1 2 3 3\n",
      "2\n"
     ]
    }
   ],
   "source": [
    "x=int(input())\n",
    "a=[int(i) for i in input().strip().split(' ')]\n",
    "print(a.count(max(a)))"
   ]
  },
  {
   "cell_type": "markdown",
   "metadata": {},
   "source": [
    "# strip() ka kaam number k beech m kuch addition symbol chahiy 2:3 strip(':')"
   ]
  },
  {
   "cell_type": "code",
   "execution_count": 4,
   "metadata": {},
   "outputs": [
    {
     "name": "stdout",
     "output_type": "stream",
     "text": [
      "4 \n",
      "1 2 3 3\n",
      "2\n"
     ]
    }
   ],
   "source": [
    "x=int(input())\n",
    "a=[int(i) for i in input().split(' ')]\n",
    "print(a.count(max(a)))"
   ]
  },
  {
   "cell_type": "code",
   "execution_count": null,
   "metadata": {},
   "outputs": [],
   "source": []
  }
 ],
 "metadata": {
  "kernelspec": {
   "display_name": "Python 3",
   "language": "python",
   "name": "python3"
  },
  "language_info": {
   "codemirror_mode": {
    "name": "ipython",
    "version": 3
   },
   "file_extension": ".py",
   "mimetype": "text/x-python",
   "name": "python",
   "nbconvert_exporter": "python",
   "pygments_lexer": "ipython3",
   "version": "3.8.3"
  }
 },
 "nbformat": 4,
 "nbformat_minor": 4
}
