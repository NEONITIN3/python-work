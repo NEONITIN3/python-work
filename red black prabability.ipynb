{
 "cells": [
  {
   "cell_type": "markdown",
   "metadata": {},
   "source": [
    "# solution\n",
    "Urn X has a 4/7 probability of giving a red ball\n",
    "Urn Y has a 5/9 probability of giving a red ball\n",
    "Urn Z has a 1/2 probability of giving a red ball\n",
    "\n",
    "Urn X has a 3/7 probability of giving a black ball\n",
    "Urn Y has a 4/9 probability of giving a black ball\n",
    "Urn Z has a 1/2 probability of giving a black ball\n",
    "\n",
    "P(2 red, 1 black)\n",
    "= P(Red Red Black) + P(Red Black Red) + P(Black Red Red)\n",
    "= (4/7)(5/9)(1/2) + (4/7)(4/9)(1/2) + (3/7)(5/9)(1/2)\n",
    "= 20/126 + 16/126 + 15/126\n",
    "= 51/126\n",
    "= 17/42"
   ]
  },
  {
   "cell_type": "code",
   "execution_count": null,
   "metadata": {},
   "outputs": [],
   "source": []
  },
  {
   "cell_type": "code",
   "execution_count": null,
   "metadata": {},
   "outputs": [],
   "source": []
  }
 ],
 "metadata": {
  "kernelspec": {
   "display_name": "Python 3",
   "language": "python",
   "name": "python3"
  },
  "language_info": {
   "codemirror_mode": {
    "name": "ipython",
    "version": 3
   },
   "file_extension": ".py",
   "mimetype": "text/x-python",
   "name": "python",
   "nbconvert_exporter": "python",
   "pygments_lexer": "ipython3",
   "version": "3.8.3"
  }
 },
 "nbformat": 4,
 "nbformat_minor": 4
}
