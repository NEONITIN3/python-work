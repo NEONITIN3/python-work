{
 "cells": [
  {
   "cell_type": "code",
   "execution_count": 1,
   "metadata": {},
   "outputs": [
    {
     "name": "stdout",
     "output_type": "stream",
     "text": [
      "hii brooo\n",
      " ajj mausam bahut achha hai\n"
     ]
    }
   ],
   "source": [
    "class a:\n",
    "    def hello(self):\n",
    "        print(\"hii brooo\")\n",
    "    def hellow (self):\n",
    "        print(\" ajj mausam bahut achha hai\")\n",
    "obj=a() # class ko obj m define kiya \n",
    "obj.hello() # obj name k through call kra liya\n",
    "obj.hellow()"
   ]
  },
  {
   "cell_type": "code",
   "execution_count": null,
   "metadata": {},
   "outputs": [],
   "source": []
  }
 ],
 "metadata": {
  "kernelspec": {
   "display_name": "Python 3",
   "language": "python",
   "name": "python3"
  },
  "language_info": {
   "codemirror_mode": {
    "name": "ipython",
    "version": 3
   },
   "file_extension": ".py",
   "mimetype": "text/x-python",
   "name": "python",
   "nbconvert_exporter": "python",
   "pygments_lexer": "ipython3",
   "version": "3.8.3"
  }
 },
 "nbformat": 4,
 "nbformat_minor": 4
}
