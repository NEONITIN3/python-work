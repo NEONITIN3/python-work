{
 "cells": [
  {
   "cell_type": "markdown",
   "metadata": {},
   "source": [
    "There is a street by the name of a colorful street in Pretty Town. The residents of the house have decided that they will paint their houses in either Pink, Orange, or Yellow color and not other. They have also decided that no two adjacent houses will have the same color. For house i, i−1 and i+1 are the neighbors and note that the first and the last house are not neighbors.\n",
    "\n",
    "The cost of painting a house in a particular color is different. The cost of painting the first house in color yellow may be different than what its for painting the second house in the same color.\n",
    "\n",
    "You have to find the minimum cost of painting the houses which satisfy the given condition.\n",
    "\n",
    "Input Constraints — Number of houses will contain between 1 and 20 elements, inclusive. — Each line of input for houses will have three values for the cost of coloring in each color. Each value will be between 1 and 1000.\n",
    "\n",
    "Input Format — The first line will contain the number of test cases — T. — The second line will contain an integer N that will specify how many houses are there. — Each of the following N lines will contain 3 numbers separated by space that represents the cost of painting that house in either pink, orange, or yellow color.\n",
    "\n",
    "Output Format Print T lines showing the cost of painting the houses for each test case.\n",
    "\n",
    "SAMPLE INPUT\n",
    "\n",
    "1\n",
    "2\n",
    "11 12 13\n",
    "14 15 16\n",
    "SAMPLE OUTPUT\n",
    "\n",
    "26"
   ]
  },
  {
   "cell_type": "code",
   "execution_count": 3,
   "metadata": {},
   "outputs": [
    {
     "name": "stdout",
     "output_type": "stream",
     "text": [
      "1\n",
      "2\n",
      "11 12 13\n",
      "14 14 16\n",
      "25\n"
     ]
    }
   ],
   "source": [
    "def minCost(costs):\n",
    "    for i in range(1,len(costs)):\n",
    "        x,y = costs[i],costs[i-1]\n",
    "        x[0] += min(y[1], y[2])\n",
    "        x[1] += min(y[0], y[2])\n",
    "        x[2] += min(y[0], y[1])\n",
    "    return min(costs[-1])\n",
    "t = int(input())\n",
    "for _ in range(t):\n",
    "    n = int(input())\n",
    "    costs = [list(map(int,input().strip().split())) for i in range(n)]\n",
    "    print(minCost(costs))"
   ]
  },
  {
   "cell_type": "code",
   "execution_count": null,
   "metadata": {},
   "outputs": [],
   "source": [
    "include <bits/stdc++.h>\n",
    "using namespace std;\n",
    "typedef long long ll;\n",
    "typedef long double ld;\n",
    "#define fast                          \\\n",
    "    ios_base::sync_with_stdio(false); \\\n",
    "    cin.tie(NULL);                    \\\n",
    "    cout.tie(NULL)\n",
    "#define endl '\\n'\n",
    "#define watch(x) cout << (#x) << \" is \" << (x) << \"\\n\"\n",
    "#define watch2(x, y) cout << (#x) << \" is \" << (x) << \" and \" << (#y) << \" is \" << (y) << \"\\n\"\n",
    "#define watch3(x, y, z) cout << (#x) << \" is \" << (x) << \" and \" << (#y) << \" is \" << (y) << \" and \" << (#z) << \" is \" << (z) << \"\\n\"\n",
    "#define ff first\n",
    "#define ss second\n",
    "#define pb push_back\n",
    "#define pf push_front\n",
    "#define rep(i, a, b) for (ll i = a; i < (b); ++i)\n",
    "#define reb(i, a, b) for (ll i = a; i >= (b); --i)\n",
    "#define trav(a, x) for (auto &a : x)\n",
    "#define all(x) x.begin(), x.end()\n",
    "#define sz(x) (ll)(x).size()\n",
    "typedef pair<ll, ll> pii;\n",
    "typedef vector<ll> vi;\n",
    "ll maxn=10001,mm=1000000007;\n",
    "ll dp[10001][101];\n",
    "int main()\n",
    "{\n",
    "    fast;\n",
    "\tint t;\n",
    "    rep(i,0,101)\n",
    "    dp[0][i]=1;\n",
    "    rep(i,1,101)\n",
    "    {\n",
    "        rep(j,1,maxn)\n",
    "        {\n",
    "            rep(x,1,min(j,i)+1)\n",
    "            {\n",
    "                dp[j][i]+=dp[j-x][i];\n",
    "                dp[j][i]%=mm;\n",
    "            }\n",
    "        }\n",
    "    }\n",
    "\tcin>>t;\n",
    "\twhile(t--)\n",
    "\t{\n",
    "\t\tll n,m;\n",
    "        cin>>n>>m;\n",
    "        cout<<dp[n][m]<<endl;\n",
    "\t}\n",
    "}"
   ]
  }
 ],
 "metadata": {
  "kernelspec": {
   "display_name": "Python 3",
   "language": "python",
   "name": "python3"
  },
  "language_info": {
   "codemirror_mode": {
    "name": "ipython",
    "version": 3
   },
   "file_extension": ".py",
   "mimetype": "text/x-python",
   "name": "python",
   "nbconvert_exporter": "python",
   "pygments_lexer": "ipython3",
   "version": "3.8.3"
  }
 },
 "nbformat": 4,
 "nbformat_minor": 4
}
