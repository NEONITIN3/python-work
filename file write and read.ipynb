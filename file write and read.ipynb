{
 "cells": [
  {
   "cell_type": "code",
   "execution_count": 1,
   "metadata": {},
   "outputs": [],
   "source": [
    "def main():\n",
    "    f= open(\"myfirstfile.txt\",\"w+\")\n",
    "    #yaha write mode me khol raha hu aur agar es naam se file nahe hue to creat kar lega\n",
    "    f.write(\" ka ho gand fati ba na toharau ab\")\n",
    "if __name__ == \"__main__\":\n",
    "  main()"
   ]
  },
  {
   "cell_type": "code",
   "execution_count": 5,
   "metadata": {},
   "outputs": [],
   "source": [
    "def main():\n",
    "    f= open(\"myfirstfile2.txt\",\"w+\")\n",
    "    #yaha write mode me khol raha hu aur agar es naam se file nahe hue to creat kar lega\n",
    "    for i in range(10):\n",
    "        \n",
    "        f.write(\" ka ho gand fati ba na toharau ab\")\n",
    "    f.close()        \n",
    "        \n",
    "if __name__ == \"__main__\":\n",
    "  main()\n",
    "\n",
    "\n",
    "# ye file sab ek sath print ho raha hoga"
   ]
  },
  {
   "cell_type": "code",
   "execution_count": 9,
   "metadata": {},
   "outputs": [],
   "source": [
    "def main():\n",
    "    f= open(\"myfirstfile3.txt\",\"w+\")\n",
    "    #yaha write mode me khol raha hu aur agar es naam se file nahe hue to creat kar lega\n",
    "    for i in range(10):\n",
    "        \n",
    "        f.write(\" ka ho gand fati ba na toharau ab\"+\"\\n\") #line change k liye\n",
    "    f.close()        \n",
    "        \n",
    "if __name__ == \"__main__\":\n",
    "  main()\n",
    "\n"
   ]
  },
  {
   "cell_type": "code",
   "execution_count": null,
   "metadata": {},
   "outputs": [],
   "source": []
  },
  {
   "cell_type": "code",
   "execution_count": null,
   "metadata": {},
   "outputs": [],
   "source": []
  },
  {
   "cell_type": "code",
   "execution_count": null,
   "metadata": {},
   "outputs": [],
   "source": []
  },
  {
   "cell_type": "code",
   "execution_count": null,
   "metadata": {},
   "outputs": [],
   "source": []
  },
  {
   "cell_type": "code",
   "execution_count": null,
   "metadata": {},
   "outputs": [],
   "source": []
  }
 ],
 "metadata": {
  "kernelspec": {
   "display_name": "Python 3",
   "language": "python",
   "name": "python3"
  },
  "language_info": {
   "codemirror_mode": {
    "name": "ipython",
    "version": 3
   },
   "file_extension": ".py",
   "mimetype": "text/x-python",
   "name": "python",
   "nbconvert_exporter": "python",
   "pygments_lexer": "ipython3",
   "version": "3.8.3"
  }
 },
 "nbformat": 4,
 "nbformat_minor": 4
}
