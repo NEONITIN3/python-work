{
 "cells": [
  {
   "cell_type": "markdown",
   "metadata": {},
   "source": [
    "# prblm\n",
    "\n",
    "Given 3 integers A, B, C. Do the following steps-\n",
    "\n",
    "Swap A and B.\n",
    "Multiply A by C.\n",
    "Add C to B.\n",
    "Output new values of A and B."
   ]
  },
  {
   "cell_type": "code",
   "execution_count": 3,
   "metadata": {},
   "outputs": [
    {
     "name": "stdout",
     "output_type": "stream",
     "text": [
      "13\n",
      "5\n",
      "2\n",
      "10 15\n"
     ]
    }
   ],
   "source": [
    "a=int(input())\n",
    "b=int(input())\n",
    "c=int(input())\n",
    "a=a+b\n",
    "b=a-b\n",
    "a=a-b\n",
    "a=a*c\n",
    "b=b+c\n",
    "print(a,b)"
   ]
  },
  {
   "cell_type": "code",
   "execution_count": null,
   "metadata": {},
   "outputs": [],
   "source": [
    "# list"
   ]
  },
  {
   "cell_type": "code",
   "execution_count": 6,
   "metadata": {},
   "outputs": [
    {
     "name": "stdout",
     "output_type": "stream",
     "text": [
      "13 5 2\n",
      "10 15\n"
     ]
    }
   ],
   "source": [
    "a=list(map(int,input().split()))\n",
    "temp = a[0]\n",
    "\n",
    "a[0] = a[1]\n",
    "\n",
    "a[1] = temp\n",
    "\n",
    "a[0] = a[0] * a[2]\n",
    "\n",
    "a[1] = a[1] + a[2]\n",
    "\n",
    "print(a[0], a[1])"
   ]
  },
  {
   "cell_type": "code",
   "execution_count": null,
   "metadata": {},
   "outputs": [],
   "source": []
  }
 ],
 "metadata": {
  "kernelspec": {
   "display_name": "Python 3",
   "language": "python",
   "name": "python3"
  },
  "language_info": {
   "codemirror_mode": {
    "name": "ipython",
    "version": 3
   },
   "file_extension": ".py",
   "mimetype": "text/x-python",
   "name": "python",
   "nbconvert_exporter": "python",
   "pygments_lexer": "ipython3",
   "version": "3.8.3"
  }
 },
 "nbformat": 4,
 "nbformat_minor": 4
}
