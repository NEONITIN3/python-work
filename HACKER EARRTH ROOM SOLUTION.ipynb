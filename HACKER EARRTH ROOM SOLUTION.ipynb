{
 "cells": [
  {
   "cell_type": "code",
   "execution_count": null,
   "metadata": {},
   "outputs": [
    {
     "name": "stdout",
     "output_type": "stream",
     "text": [
      "ABBSC\n",
      "1\n",
      "1\n",
      "2\n",
      "2\n",
      "0\n",
      "2\n",
      "2\n",
      "0\n",
      "2\n",
      "2\n",
      "0\n",
      "2\n",
      "2\n",
      "0\n"
     ]
    }
   ],
   "source": [
    "while True:\n",
    "    s = input().strip()\n",
    "    if s ==\"0\": break\n",
    "    n = int(input())\n",
    "    room = set()\n",
    "    wait = set()\n",
    "    fill = 0\n",
    "    left = 0\n",
    "    for person in s:\n",
    "        if person in wait:\n",
    "            left += 1\n",
    "        elif person in room:\n",
    "            room.discard(person)\n",
    "            fill -= 1\n",
    "        elif fill<n:\n",
    "            room.add(person)\n",
    "            fill += 1\n",
    "        else:\n",
    "            wait.add(person)\n",
    "    print(left)"
   ]
  },
  {
   "cell_type": "code",
   "execution_count": null,
   "metadata": {},
   "outputs": [],
   "source": []
  }
 ],
 "metadata": {
  "kernelspec": {
   "display_name": "Python 3",
   "language": "python",
   "name": "python3"
  },
  "language_info": {
   "codemirror_mode": {
    "name": "ipython",
    "version": 3
   },
   "file_extension": ".py",
   "mimetype": "text/x-python",
   "name": "python",
   "nbconvert_exporter": "python",
   "pygments_lexer": "ipython3",
   "version": "3.8.3"
  }
 },
 "nbformat": 4,
 "nbformat_minor": 4
}
