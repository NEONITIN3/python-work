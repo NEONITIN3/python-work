{
 "cells": [
  {
   "cell_type": "code",
   "execution_count": null,
   "metadata": {},
   "outputs": [],
   "source": [
    "def med(arr):\n",
    "    arr.sort()\n",
    "    if len(arr) % 2 == 1:\n",
    "        ret_value = arr[int((len(arr)-1)/2)]\n",
    "    else:\n",
    "        ret_value = 0.5*(arr[int(len(arr)/2-1)]+arr[int(len(arr)/2)])\n",
    "    return ret_value\n",
    "\n",
    "N = int(input().strip())\n",
    "x_arr = [int(i) for i in input().strip().split(' ')]\n",
    "f_arr = [int(i) for i in input().strip().split(' ')]\n",
    "full_arr = []\n",
    "\n",
    "for i in range(N):\n",
    "    for j in range(f_arr[i]):\n",
    "        full_arr.append(x_arr[i])\n",
    "\n",
    "Q2 = med(full_arr)\n",
    "\n",
    "l_arr = [i for i in full_arr if i < Q2]\n",
    "u_arr = [i for i in full_arr if i > Q2]\n",
    "\n",
    "Q1 = med(l_arr)\n",
    "Q3 = med(u_arr)\n",
    "\n",
    "print('{0:.1f}'.format(Q3 - Q1))"
   ]
  },
  {
   "cell_type": "code",
   "execution_count": null,
   "metadata": {},
   "outputs": [],
   "source": [
    "import statistics as st\n",
    "\n",
    "n = int(input())\n",
    "data = list(map(int, input().split()))\n",
    "freq = list(map(int, input().split()))\n",
    "\n",
    "s = []\n",
    "for i in range(n):\n",
    "    s += [data[i]] * freq[i]\n",
    "N = sum(freq)\n",
    "s.sort()\n",
    "\n",
    "if n%2 != 0:\n",
    "    q1 = st.median(s[:N//2])\n",
    "    q3 = st.median(s[N//2+1:])\n",
    "else:\n",
    "    q1 = st.median(s[:N//2])\n",
    "    q3 = st.median(s[N//2:])\n",
    "\n",
    "ir = round(float(q3-q1), 1)\n",
    "print(ir)"
   ]
  },
  {
   "cell_type": "code",
   "execution_count": null,
   "metadata": {},
   "outputs": [],
   "source": []
  },
  {
   "cell_type": "code",
   "execution_count": null,
   "metadata": {},
   "outputs": [],
   "source": []
  },
  {
   "cell_type": "markdown",
   "metadata": {},
   "source": [
    "# Homehackerrank solutionsDay 1: Interquartile Range solution | HackerRank | Statistics\n",
    "Day 1: Interquartile Range solution | HackerRank | Statistics\n",
    "YASH PALJuly 16, 2020\n",
    "\n",
    " \n",
    "Task\n",
    "The interquartile range of an array is the difference between its first () and third () quartiles (i.e., ).\n",
    "\n",
    "Given an array, , of  integers and an array, , representing the respective frequencies of 's elements, construct a data set, , where each  occurs at frequency . Then calculate and print 's interquartile range, rounded to a scale of  decimal place (i.e.,  format).\n",
    "\n",
    "Tip: Be careful to not use integer division when averaging the middle two elements for a data set with an even number of elements, and be sure to not include the median in your upper and lower data sets.\n",
    "\n",
    "Input Format\n",
    "\n",
    "The first line contains an integer, , denoting the number of elements in arrays  and .\n",
    "The second line contains  space-separated integers describing the respective elements of array .\n",
    "The third line contains  space-separated integers describing the respective elements of array .\n",
    "\n",
    "Constraints\n",
    "\n",
    ", where  is the  element of array .\n",
    ", where  is the  element of array .\n",
    "The number of elements in  is equal to .\n",
    "Output Format\n",
    "\n",
    "Print the interquartile range for the expanded data set on a new line. Round your answer to a scale of  decimal place (i.e.,  format)."
   ]
  }
 ],
 "metadata": {
  "kernelspec": {
   "display_name": "Python 3",
   "language": "python",
   "name": "python3"
  },
  "language_info": {
   "codemirror_mode": {
    "name": "ipython",
    "version": 3
   },
   "file_extension": ".py",
   "mimetype": "text/x-python",
   "name": "python",
   "nbconvert_exporter": "python",
   "pygments_lexer": "ipython3",
   "version": "3.8.3"
  }
 },
 "nbformat": 4,
 "nbformat_minor": 4
}
