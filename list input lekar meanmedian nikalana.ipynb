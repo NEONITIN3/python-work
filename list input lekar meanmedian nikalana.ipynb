{
 "cells": [
  {
   "cell_type": "markdown",
   "metadata": {},
   "source": [
    "input\n",
    "6\n",
    "1 2 3 3 4 4\n",
    "phir eska mean meadian mod bataye "
   ]
  },
  {
   "cell_type": "code",
   "execution_count": null,
   "metadata": {},
   "outputs": [],
   "source": []
  },
  {
   "cell_type": "code",
   "execution_count": 8,
   "metadata": {},
   "outputs": [
    {
     "name": "stdout",
     "output_type": "stream",
     "text": [
      "5 6\n",
      "7 6545\n",
      "[[   5    6]\n",
      " [   7 6545]]\n"
     ]
    }
   ],
   "source": [
    "import numpy as np\n",
    "#n=int(input())\n",
    "a=np.array([input().split() for _ in range(0,n)],int)\n",
    "#m=np.mean(a)\n",
    "print(a)\n",
    "\n"
   ]
  },
  {
   "cell_type": "markdown",
   "metadata": {},
   "source": [
    "# finaly hacker rank k hisab se code "
   ]
  },
  {
   "cell_type": "code",
   "execution_count": 16,
   "metadata": {},
   "outputs": [
    {
     "name": "stdout",
     "output_type": "stream",
     "text": [
      "4\n",
      "123 234 4323 123 123\n",
      "985.2\n",
      "123.0\n",
      "123\n"
     ]
    }
   ],
   "source": [
    "import statistics\n",
    "import numpy as np\n",
    "from scipy import stats as s #mode nikalne k liye import karaye hai\n",
    "size=int(input())\n",
    "a=list(map(int,input().split()))\n",
    "print(np.mean(a))\n",
    "print(np.median(a))\n",
    "print(statistics.mode(a)) "
   ]
  },
  {
   "cell_type": "markdown",
   "metadata": {},
   "source": [
    "# without libary"
   ]
  },
  {
   "cell_type": "code",
   "execution_count": null,
   "metadata": {},
   "outputs": [],
   "source": [
    "from statistics import mean,median,mode\n",
    "N = int(input().strip())\n",
    "\n",
    "arr = [int(i) for i in input().strip().split(' ')]\n",
    "arr.sort()\n",
    "\n",
    "print('{0:.1f}'.format(sum(arr)/N))\n",
    "\n",
    "if N % 2 == 1:\n",
    "    print('{0:.1f}'.format(arr[int((N-1)/2)]))\n",
    "else:\n",
    "    print('{0:.1f}'.format(0.5*(arr[int(N/2)-1]+arr[int(N/2)])))\n",
    "    \n",
    "counts=[]\n",
    "for i in arr:\n",
    "    counts.append(arr.count(i))\n",
    "if max(counts) > 1:\n",
    "    print(arr[counts.index(max(counts))])\n",
    "else:\n",
    "    print(min(arr))"
   ]
  },
  {
   "cell_type": "code",
   "execution_count": 17,
   "metadata": {},
   "outputs": [
    {
     "name": "stdout",
     "output_type": "stream",
     "text": [
      "3\n"
     ]
    }
   ],
   "source": [
    "N = int(input().strip())\n"
   ]
  },
  {
   "cell_type": "code",
   "execution_count": 20,
   "metadata": {},
   "outputs": [
    {
     "name": "stdout",
     "output_type": "stream",
     "text": [
      "122222223456789\n"
     ]
    }
   ],
   "source": [
    "arr = [int(i) for i in input().strip().split(' ')]"
   ]
  },
  {
   "cell_type": "code",
   "execution_count": 21,
   "metadata": {},
   "outputs": [
    {
     "name": "stdout",
     "output_type": "stream",
     "text": [
      "[122222223456789]\n"
     ]
    }
   ],
   "source": [
    "print(arr)"
   ]
  },
  {
   "cell_type": "code",
   "execution_count": null,
   "metadata": {},
   "outputs": [],
   "source": []
  },
  {
   "cell_type": "code",
   "execution_count": null,
   "metadata": {},
   "outputs": [],
   "source": []
  }
 ],
 "metadata": {
  "kernelspec": {
   "display_name": "Python 3",
   "language": "python",
   "name": "python3"
  },
  "language_info": {
   "codemirror_mode": {
    "name": "ipython",
    "version": 3
   },
   "file_extension": ".py",
   "mimetype": "text/x-python",
   "name": "python",
   "nbconvert_exporter": "python",
   "pygments_lexer": "ipython3",
   "version": "3.8.3"
  }
 },
 "nbformat": 4,
 "nbformat_minor": 4
}
