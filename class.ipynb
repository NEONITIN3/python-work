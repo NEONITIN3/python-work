{
 "cells": [
  {
   "cell_type": "code",
   "execution_count": 3,
   "metadata": {},
   "outputs": [],
   "source": [
    "class myClass():\n",
    "    def method1(self):\n",
    "        print(\"my class method1\")\n",
    "    def method2(self, someSring):\n",
    "        print(\"myclass method2\"+someSring)\n",
    "def main():\n",
    "    c=myClass()\n",
    "    c.method1()\n",
    "    c.method2(\"this is string\")"
   ]
  },
  {
   "cell_type": "markdown",
   "metadata": {},
   "source": [
    "# if __name__ == \"__main__\":\n",
    "#  main()     \n",
    "ye nahi likha tha thats why  main() functiopn nHI CHALA"
   ]
  },
  {
   "cell_type": "markdown",
   "metadata": {},
   "source": [
    "# It executes the main() function only if this file is executed as the main program"
   ]
  },
  {
   "cell_type": "code",
   "execution_count": 4,
   "metadata": {},
   "outputs": [
    {
     "name": "stdout",
     "output_type": "stream",
     "text": [
      "my class method1\n",
      "myclass method2this is string\n"
     ]
    }
   ],
   "source": [
    "class myClass():\n",
    "    def method1(self):\n",
    "        print(\"my class method1\")\n",
    "    def method2(self, someSring):\n",
    "        print(\"myclass method2\"+someSring)\n",
    "def main():\n",
    "    c=myClass()\n",
    "    c.method1()\n",
    "    c.method2(\"this is string\")\n",
    "\n",
    "\n",
    "\n",
    "if __name__ == \"__main__\":\n",
    "  main()"
   ]
  },
  {
   "cell_type": "code",
   "execution_count": 11,
   "metadata": {},
   "outputs": [
    {
     "name": "stdout",
     "output_type": "stream",
     "text": [
      "my class method1\n",
      "myclass method2  this is string\n"
     ]
    }
   ],
   "source": [
    "class myclass():\n",
    "    def method1(self):\n",
    "        print(\"my class method1\")\n",
    "    def method2(self, somestring):\n",
    "        print(\"myclass method2  \"+  somestring)\n",
    "c=myclass()\n",
    "c.method1()\n",
    "c.method2(\"this is string\")"
   ]
  },
  {
   "cell_type": "code",
   "execution_count": 12,
   "metadata": {},
   "outputs": [
    {
     "ename": "SyntaxError",
     "evalue": "invalid syntax (<ipython-input-12-6bde2daeb7ee>, line 1)",
     "output_type": "error",
     "traceback": [
      "\u001b[1;36m  File \u001b[1;32m\"<ipython-input-12-6bde2daeb7ee>\"\u001b[1;36m, line \u001b[1;32m1\u001b[0m\n\u001b[1;33m    def main:\u001b[0m\n\u001b[1;37m            ^\u001b[0m\n\u001b[1;31mSyntaxError\u001b[0m\u001b[1;31m:\u001b[0m invalid syntax\n"
     ]
    }
   ],
   "source": [
    "def main:\n",
    "print(hello!)"
   ]
  },
  {
   "cell_type": "code",
   "execution_count": 13,
   "metadata": {},
   "outputs": [
    {
     "ename": "NameError",
     "evalue": "name 'Simple' is not defined",
     "output_type": "error",
     "traceback": [
      "\u001b[1;31m---------------------------------------------------------------------------\u001b[0m",
      "\u001b[1;31mNameError\u001b[0m                                 Traceback (most recent call last)",
      "\u001b[1;32m<ipython-input-13-00e2ea16db46>\u001b[0m in \u001b[0;36m<module>\u001b[1;34m\u001b[0m\n\u001b[1;32m----> 1\u001b[1;33m \u001b[1;32mclass\u001b[0m \u001b[0mAdvanced\u001b[0m\u001b[1;33m(\u001b[0m\u001b[0mSimple\u001b[0m\u001b[1;33m)\u001b[0m\u001b[1;33m:\u001b[0m\u001b[1;33m\u001b[0m\u001b[1;33m\u001b[0m\u001b[0m\n\u001b[0m\u001b[0;32m      2\u001b[0m   \u001b[1;32mdef\u001b[0m \u001b[0mInverse\u001b[0m\u001b[1;33m(\u001b[0m\u001b[0mself\u001b[0m\u001b[1;33m,\u001b[0m\u001b[0mx\u001b[0m\u001b[1;33m,\u001b[0m\u001b[0my\u001b[0m\u001b[1;33m)\u001b[0m\u001b[1;33m:\u001b[0m\u001b[1;33m\u001b[0m\u001b[1;33m\u001b[0m\u001b[0m\n\u001b[0;32m      3\u001b[0m     \u001b[1;32mreturn\u001b[0m \u001b[1;33m(\u001b[0m\u001b[1;36m1\u001b[0m\u001b[1;33m/\u001b[0m\u001b[0mSimple\u001b[0m\u001b[1;33m.\u001b[0m\u001b[0mAdd\u001b[0m\u001b[1;33m(\u001b[0m\u001b[0mself\u001b[0m\u001b[1;33m,\u001b[0m\u001b[0mx\u001b[0m\u001b[1;33m,\u001b[0m\u001b[0my\u001b[0m\u001b[1;33m)\u001b[0m\u001b[1;33m)\u001b[0m\u001b[1;33m\u001b[0m\u001b[1;33m\u001b[0m\u001b[0m\n",
      "\u001b[1;31mNameError\u001b[0m: name 'Simple' is not defined"
     ]
    }
   ],
   "source": [
    "class Advanced(Simple):\n",
    "  def Inverse(self,x,y):\n",
    "    return (1/Simple.Add(self,x,y))"
   ]
  },
  {
   "cell_type": "code",
   "execution_count": 18,
   "metadata": {},
   "outputs": [
    {
     "name": "stdout",
     "output_type": "stream",
     "text": [
      "2\n",
      "4\n"
     ]
    }
   ],
   "source": [
    "def inc(a,b=1):\n",
    "    return(a+b)\n",
    "a=inc(1)\n",
    "print(a)\n",
    "a=inc(a,a)\n",
    "print(a)\n",
    "#print(a)"
   ]
  },
  {
   "cell_type": "code",
   "execution_count": 19,
   "metadata": {},
   "outputs": [
    {
     "name": "stdout",
     "output_type": "stream",
     "text": [
      "Your monthly payment is 833.3333333333334 USD.\n"
     ]
    }
   ],
   "source": [
    "def SetAnnual():\n",
    "  global annual\n",
    "  annual=10000\n",
    "def PrintMonthly():\n",
    "  print(\"Your monthly payment is \"+str(annual/12)+\" USD.\")\n",
    "SetAnnual()\n",
    "PrintMonthly()"
   ]
  },
  {
   "cell_type": "code",
   "execution_count": 21,
   "metadata": {},
   "outputs": [
    {
     "name": "stdout",
     "output_type": "stream",
     "text": [
      "833.3333333333334\n"
     ]
    }
   ],
   "source": [
    "annual=10000\n",
    "print(str(annual/12))"
   ]
  },
  {
   "cell_type": "code",
   "execution_count": null,
   "metadata": {},
   "outputs": [],
   "source": []
  }
 ],
 "metadata": {
  "kernelspec": {
   "display_name": "Python 3",
   "language": "python",
   "name": "python3"
  },
  "language_info": {
   "codemirror_mode": {
    "name": "ipython",
    "version": 3
   },
   "file_extension": ".py",
   "mimetype": "text/x-python",
   "name": "python",
   "nbconvert_exporter": "python",
   "pygments_lexer": "ipython3",
   "version": "3.8.3"
  }
 },
 "nbformat": 4,
 "nbformat_minor": 4
}
