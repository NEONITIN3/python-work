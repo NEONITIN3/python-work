{
 "cells": [
  {
   "cell_type": "code",
   "execution_count": null,
   "metadata": {},
   "outputs": [],
   "source": [
    "N = int(input().strip())\n",
    "x_arr = [int(i) for i in input().strip().split(' ')]\n",
    "f_arr = [int(i) for i in input().strip().split(' ')]\n",
    "full_arr = []"
   ]
  },
  {
   "cell_type": "code",
   "execution_count": 2,
   "metadata": {},
   "outputs": [
    {
     "name": "stdout",
     "output_type": "stream",
     "text": [
      "2\n",
      "1 2\n",
      "[1, 2]\n"
     ]
    }
   ],
   "source": [
    "\n",
    "N = int(input())\n",
    "X = list(map(int, input().split()))\n",
    "print(X)"
   ]
  },
  {
   "cell_type": "code",
   "execution_count": 3,
   "metadata": {},
   "outputs": [
    {
     "name": "stdout",
     "output_type": "stream",
     "text": [
      "2\n",
      "1 2\n",
      "[1, 2]\n"
     ]
    }
   ],
   "source": [
    "n=int(input())\n",
    "a=[int(i) for i in input().split()]\n",
    "print(a)"
   ]
  },
  {
   "cell_type": "code",
   "execution_count": 4,
   "metadata": {},
   "outputs": [
    {
     "name": "stdout",
     "output_type": "stream",
     "text": [
      "2\n",
      "1 2 2\n",
      "[1, 2, 2]\n"
     ]
    }
   ],
   "source": [
    "n=int(input())\n",
    "a=list([int(i) for i in input().split()])\n",
    "print(a)"
   ]
  },
  {
   "cell_type": "code",
   "execution_count": 6,
   "metadata": {},
   "outputs": [
    {
     "name": "stdout",
     "output_type": "stream",
     "text": [
      "3\n",
      "1 32 5\n",
      "[1, 32, 5]\n",
      "160\n"
     ]
    }
   ],
   "source": [
    "n=int(input())\n",
    "m=1\n",
    "a=list([int(i) for i in input().split()])\n",
    "print(a)\n",
    "for i in a:\n",
    "    m=m*i\n",
    "print(m)    \n",
    "    "
   ]
  },
  {
   "cell_type": "code",
   "execution_count": null,
   "metadata": {},
   "outputs": [],
   "source": []
  }
 ],
 "metadata": {
  "kernelspec": {
   "display_name": "Python 3",
   "language": "python",
   "name": "python3"
  },
  "language_info": {
   "codemirror_mode": {
    "name": "ipython",
    "version": 3
   },
   "file_extension": ".py",
   "mimetype": "text/x-python",
   "name": "python",
   "nbconvert_exporter": "python",
   "pygments_lexer": "ipython3",
   "version": "3.8.3"
  }
 },
 "nbformat": 4,
 "nbformat_minor": 4
}
