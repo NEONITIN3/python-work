{
 "cells": [
  {
   "cell_type": "code",
   "execution_count": null,
   "metadata": {},
   "outputs": [],
   "source": [
    "n=int(input())\n",
    "m=1\n",
    "a=[int(i) for i in input().split(' ')]\n",
    "for i in a:\n",
    "    m=m*i\n",
    "print(m)    "
   ]
  },
  {
   "cell_type": "code",
   "execution_count": 1,
   "metadata": {},
   "outputs": [
    {
     "name": "stdout",
     "output_type": "stream",
     "text": [
      "2\n",
      "12212345678 98765432\n",
      "177899780\n"
     ]
    }
   ],
   "source": [
    "n = int(input())\n",
    "\n",
    "arr = list(map(int, input().split()))\n",
    "\n",
    "ans = 1\n",
    "\n",
    "for i in range(0, n):\n",
    "\n",
    "   ans = (ans * arr[i]) % (10 ** 9 + 7)\n",
    "\n",
    "print(ans)    "
   ]
  },
  {
   "cell_type": "code",
   "execution_count": 9,
   "metadata": {},
   "outputs": [
    {
     "name": "stdout",
     "output_type": "stream",
     "text": [
      "(1, 2, 3, 4, 4)\n",
      "<class 'tuple'>\n"
     ]
    }
   ],
   "source": [
    "l=(1,2,3,4,4)\n",
    "print(l)\n",
    "print(type(l))"
   ]
  },
  {
   "cell_type": "code",
   "execution_count": 10,
   "metadata": {},
   "outputs": [
    {
     "name": "stdout",
     "output_type": "stream",
     "text": [
      "[1, 2, 3, 4, 4]\n",
      "<class 'list'>\n"
     ]
    }
   ],
   "source": [
    "l=[1,2,3,4,4]\n",
    "print(l)\n",
    "print(type(l))"
   ]
  },
  {
   "cell_type": "code",
   "execution_count": null,
   "metadata": {},
   "outputs": [],
   "source": [
    "l=(1,2,3,4,4)\n",
    "print(l)\n",
    "print(type(l))"
   ]
  }
 ],
 "metadata": {
  "kernelspec": {
   "display_name": "Python 3",
   "language": "python",
   "name": "python3"
  },
  "language_info": {
   "codemirror_mode": {
    "name": "ipython",
    "version": 3
   },
   "file_extension": ".py",
   "mimetype": "text/x-python",
   "name": "python",
   "nbconvert_exporter": "python",
   "pygments_lexer": "ipython3",
   "version": "3.8.3"
  }
 },
 "nbformat": 4,
 "nbformat_minor": 4
}
