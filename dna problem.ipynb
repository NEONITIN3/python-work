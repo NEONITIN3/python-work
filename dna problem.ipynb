{
 "cells": [
  {
   "cell_type": "code",
   "execution_count": null,
   "metadata": {},
   "outputs": [],
   "source": []
  },
  {
   "cell_type": "code",
   "execution_count": null,
   "metadata": {},
   "outputs": [],
   "source": []
  },
  {
   "cell_type": "code",
   "execution_count": null,
   "metadata": {},
   "outputs": [],
   "source": [
    "\n",
    "s=input()\n",
    "\n",
    "c=''                                                      #c is used for storing output\n",
    "\n",
    "flag='a'                                                 #flag is used for checking valid input(valid input here refer to on four characters 'A' 'C' 'G' 'T')      \n",
    "\n",
    "for i in s:                                               #flag assigned with 'a' because numerical  use is prohibited.\n",
    "\n",
    "     if(i=='G'):                                                 #complement for dna to rna  # G --> C  #C --> G  #T --> A  #A --> U\n",
    "\n",
    "            c+='C'\n",
    "\n",
    "     elif (i=='C'):\n",
    "\n",
    "            c+='G'\n",
    "\n",
    "     elif (i=='T'):\n",
    "\n",
    "            c+='A'\n",
    "\n",
    "     elif (i=='A'):\n",
    "\n",
    "            c+='U'\n",
    "\n",
    "     else:                                                   #invalid output check\n",
    "\n",
    "              print('Invalid Input') \n",
    "\n",
    "              flag+='b'                               #flag updated \n",
    "\n",
    "              break\n",
    "\n",
    "if (flag=='a'):                          #if flag update it not print otherwise  it will .\n",
    "\n",
    "      print(c)"
   ]
  }
 ],
 "metadata": {
  "kernelspec": {
   "display_name": "Python 3",
   "language": "python",
   "name": "python3"
  },
  "language_info": {
   "codemirror_mode": {
    "name": "ipython",
    "version": 3
   },
   "file_extension": ".py",
   "mimetype": "text/x-python",
   "name": "python",
   "nbconvert_exporter": "python",
   "pygments_lexer": "ipython3",
   "version": "3.8.3"
  }
 },
 "nbformat": 4,
 "nbformat_minor": 4
}
