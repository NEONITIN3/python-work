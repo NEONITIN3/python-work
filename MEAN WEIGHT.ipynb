{
 "cells": [
  {
   "cell_type": "markdown",
   "metadata": {},
   "source": [
    "3\n",
    "1 2 3\n",
    "1 2 1\n",
    "0/P\n",
    "2.0\n",
    "\n",
    "expl\n",
    "1*1+2*2+3*1)/(1+2+1) ESE KAHATE HAI MEAN WEIGHT"
   ]
  },
  {
   "cell_type": "code",
   "execution_count": 7,
   "metadata": {},
   "outputs": [
    {
     "name": "stdout",
     "output_type": "stream",
     "text": [
      "2\n",
      "1 2\n",
      "1 2\n",
      "2.0\n"
     ]
    }
   ],
   "source": [
    "n=int(input())\n",
    "a=[int(i) for i in input().split()]\n",
    "b=[int(i) for i in input().split()]\n",
    "for i in range(0,n):\n",
    "    s=0\n",
    "    s+=(a[i]*b[i])\n",
    "    sw=0\n",
    "    sw+=b[i]\n",
    "    \n",
    "print(s/sw)    "
   ]
  },
  {
   "cell_type": "code",
   "execution_count": 3,
   "metadata": {},
   "outputs": [
    {
     "name": "stdout",
     "output_type": "stream",
     "text": [
      "3\n",
      "2 3 4\n"
     ]
    }
   ],
   "source": [
    "n=int(input())\n",
    "a=[int(i) for i in input().split()]"
   ]
  },
  {
   "cell_type": "code",
   "execution_count": null,
   "metadata": {},
   "outputs": [],
   "source": []
  }
 ],
 "metadata": {
  "kernelspec": {
   "display_name": "Python 3",
   "language": "python",
   "name": "python3"
  },
  "language_info": {
   "codemirror_mode": {
    "name": "ipython",
    "version": 3
   },
   "file_extension": ".py",
   "mimetype": "text/x-python",
   "name": "python",
   "nbconvert_exporter": "python",
   "pygments_lexer": "ipython3",
   "version": "3.8.3"
  }
 },
 "nbformat": 4,
 "nbformat_minor": 4
}
